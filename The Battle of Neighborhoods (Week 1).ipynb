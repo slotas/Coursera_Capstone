{
    "cells": [
        {
            "cell_type": "markdown",
            "metadata": {
                "collapsed": true
            },
            "source": "# The Battle of Neighborhoods (Week 1)"
        },
        {
            "cell_type": "code",
            "execution_count": null,
            "metadata": {},
            "outputs": [],
            "source": ""
        },
        {
            "cell_type": "markdown",
            "metadata": {},
            "source": "### Introduction: Business Problem"
        },
        {
            "cell_type": "markdown",
            "metadata": {},
            "source": "As there has been a steady growth in Bratislava in recent years, it has attracted more and more people to a point where there is a shortage of infrastructure and facilities in various neighborhoods.\n\nOne of the shortcomings is the lack of supermarkets in neighborhoods close to the historic center of Bratislava, affecting the quality of life of many of its citizens as these areas are now considered densely populated and the few grocery shops are always overcrowded with long queues.\n\nThis is an opportunity for stakeholders who are interested in opening a supermarket in one of these areas as they will have a monopoly nature.\n\nOur goal is to highlight these areas and propose the optimal neighborhood or neighborhoods for running a business of this kind based on various criteria."
        },
        {
            "cell_type": "code",
            "execution_count": null,
            "metadata": {},
            "outputs": [],
            "source": ""
        },
        {
            "cell_type": "markdown",
            "metadata": {},
            "source": "### Data"
        },
        {
            "cell_type": "markdown",
            "metadata": {},
            "source": "From wikipedia page https://en.wikipedia.org/wiki/Boroughs_and_localities_of_Bratislava we will retrieve the boroughs of Bratislava by using web scraping techniques. \n\nThen we will get the geographical coordinates of the neighborhoods by using Python Geocoder package which will give us the latitude and longitude coordinates of the neighborhoods.\n\nWe will also get the venue data for these boroughs by making use of Foursquare API. Our focus will be in venues related to supermarkets, grocery shops or shopping malls in order to visualize the current presence of this kind of business in its area of the city. After that we will explore those neighborhoods with lack of supermarkets that are closer to the historical city center (Stare Mesto) instead of areas that belong to the suburbs of Bratislava and propose the optimal area for a new supermarket."
        },
        {
            "cell_type": "code",
            "execution_count": null,
            "metadata": {},
            "outputs": [],
            "source": ""
        }
    ],
    "metadata": {
        "kernelspec": {
            "display_name": "Python 3.6",
            "language": "python",
            "name": "python3"
        },
        "language_info": {
            "codemirror_mode": {
                "name": "ipython",
                "version": 3
            },
            "file_extension": ".py",
            "mimetype": "text/x-python",
            "name": "python",
            "nbconvert_exporter": "python",
            "pygments_lexer": "ipython3",
            "version": "3.6.8"
        }
    },
    "nbformat": 4,
    "nbformat_minor": 1
}